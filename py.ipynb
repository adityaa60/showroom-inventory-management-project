{
 "cells": [
  {
   "cell_type": "code",
   "execution_count": 1,
   "metadata": {},
   "outputs": [],
   "source": [
    "import pandas as pd"
   ]
  },
  {
   "cell_type": "code",
   "execution_count": 37,
   "metadata": {},
   "outputs": [],
   "source": [
    "def access_csv():\n",
    "    print(\"\\n\\nList of car companies:\\nSelect any one option(1-7)\")\n",
    "    print(\"1.  Maruti Suzuki\")\n",
    "    print(\"2.  Tata motors\")\n",
    "    print(\"3.  Hyundai Motor India\")\n",
    "    print(\"4.  Mahindra & Mahindra\")\n",
    "    print(\"5.  Kia\")\n",
    "    print(\"6.  Toyota\")\n",
    "    print(\"7.  MG Motors\")\n",
    "    choice=int(input(\"Enter your choice as code: \"))\n",
    "    dict1={1:\"maruti\",2:\"tata\",3:\"hyundai\",4:\"mahindra\",5:\"kia\",6:\"toyota\",7:\"mg\"}\n",
    "    company= dict1[choice]\n",
    "    df=pd.read_csv(f'C:\\\\Users\\\\adity\\\\Downloads\\\\New folder\\\\{company}.csv')\n",
    "    df = df.apply(lambda x: x.str.lower() if x.dtype == \"object\" else x)\n",
    "    df.columns = df.columns.str.lower()\n",
    "    return df, company\n"
   ]
  },
  {
   "cell_type": "code",
   "execution_count": 24,
   "metadata": {},
   "outputs": [],
   "source": [
    "def printdf(df,company):\n",
    "    print(f'\\n\\nAll the records of {company.upper()}:')\n",
    "    df1 = df.apply(lambda x: x.str.upper() if x.dtype == \"object\" else x)\n",
    "    df1.columns = df.columns.str.title()\n",
    "    print(df1,'\\n')"
   ]
  },
  {
   "cell_type": "code",
   "execution_count": 7,
   "metadata": {},
   "outputs": [],
   "source": [
    "def create_new():\n",
    "   df,company=access_csv()\n",
    "   model=input('Enter Model Name of a Car: ')\n",
    "   body=input('Enter Body Type of a Car: ')\n",
    "   carname=input('Enter Name of a Car: ')\n",
    "   engine=input('Enter Engine cubic capacity of a Car: ')\n",
    "   torque=input('Enter Torque of a Car: ')\n",
    "   power=input('Enter Horsepower of a Car: ')\n",
    "   drivetype=input('Enter Drivetype of a Car: ')\n",
    "   trasmissiontype=input('Enter Trasmissiontype of a Car: ')\n",
    "   df.loc[len(df)]=[model,body,carname,engine,torque,power,drivetype,trasmissiontype]\n",
    "   df.to_csv(f'C:\\\\Users\\\\adity\\\\Downloads\\\\New folder\\\\{company}.csv', index=False)"
   ]
  },
  {
   "cell_type": "code",
   "execution_count": 8,
   "metadata": {},
   "outputs": [],
   "source": [
    "def display():\n",
    "    df,company=access_csv()\n",
    "    printdf(df,company)"
   ]
  },
  {
   "cell_type": "code",
   "execution_count": 25,
   "metadata": {},
   "outputs": [],
   "source": [
    "def Modify():\n",
    "   df,company=access_csv()\n",
    "   printdf(df,company)\n",
    "   carname=input(\"Enter Car name\").lower()\n",
    "   df1=df[df['car name'].str.contains(carname, case=False, na=False)]\n",
    "   printdf(df1,carname)\n",
    "   model=input(\"Enter Model Name: \")\n",
    "   body=input('Enter New Body Type of a Car: ')\n",
    "   carname=input('Enter New Name of a Car: ')\n",
    "   engine=input('Enter New Engine cubic capacity of a Car: ')\n",
    "   torque=input('Enter New Torque of a Car: ')\n",
    "   power=input('Enter New Horsepower of a Car: ')\n",
    "   drivetype=input('Enter New Drivetype of a Car: ')\n",
    "   transmissiontype=input('Enter New Trasmissiontype of a Car: ')\n",
    "   df.loc[df['model']==model,'body type']=body\n",
    "   df.loc[df['model']==model,'car name']=carname\n",
    "   df.loc[df['model']==model,'engine']= engine\n",
    "   df.loc[df['model']==model,'torque']=torque\n",
    "   df.loc[df['model']==model,'power']=power\n",
    "   df.loc[df['model']==model,'drive type']=drivetype\n",
    "   df.loc[df['model']==model,'transmission type']=transmissiontype\n",
    "   df.to_csv(f'C:\\\\Users\\\\adity\\\\Downloads\\\\New folder\\\\{company}.csv', index=False)\n",
    " "
   ]
  },
  {
   "cell_type": "code",
   "execution_count": 21,
   "metadata": {},
   "outputs": [],
   "source": [
    "def Delete():\n",
    "   df,company=access_csv()\n",
    "   printdf(df,company)\n",
    "   carname=input(\"Enter Car name\").lower()\n",
    "   df1=df[df['car name'].str.contains(carname, case=False, na=False)]\n",
    "   printdf(df1,carname)\n",
    "   model=input(\"Enter Model Name\")\n",
    "   df = df[df['model'] != model]\n",
    "   df.to_csv(f'C:\\\\Users\\\\adity\\\\Downloads\\\\New folder\\\\{company}.csv', index=False)     "
   ]
  },
  {
   "cell_type": "code",
   "execution_count": null,
   "metadata": {},
   "outputs": [],
   "source": [
    "def main_menu():\n",
    "    print(\"\\nMenu Options:\")\n",
    "    print(\"1. Create_new\")\n",
    "    print(\"2. Display\")\n",
    "    print(\"3. Modify\")\n",
    "    print(\"4. Delete a record\")\n",
    "    print(\"5. Exit Program\")\n",
    "\n",
    "if __name__ == \"__main__\":\n",
    "    while True:\n",
    "        main_menu()\n",
    "        choice = input(\"Please select an option (1-5): \")\n",
    "\n",
    "        if choice == '1':\n",
    "            create_new()\n",
    "        elif choice == '2':\n",
    "            display()\n",
    "        elif choice == '3':\n",
    "            Modify()\n",
    "        elif choice == '4':\n",
    "            Delete()\n",
    "        elif choice == '5':\n",
    "            print(\"Exiting the program.\")\n",
    "            break\n",
    "        else:\n",
    "            print(\"Invalid choice. Please try again.\")"
   ]
  },
  {
   "cell_type": "code",
   "execution_count": 14,
   "metadata": {},
   "outputs": [],
   "source": [
    "import pandas as pd\n",
    "\n",
    "# Set the maximum width for each column\n",
    "pd.set_option('display.width', 1000)  # Adjust the width as needed\n",
    "\n",
    "# Ensure all columns are shown in a single line\n",
    "pd.set_option('display.max_columns', None)\n"
   ]
  }
 ],
 "metadata": {
  "kernelspec": {
   "display_name": "Python 3",
   "language": "python",
   "name": "python3"
  },
  "language_info": {
   "codemirror_mode": {
    "name": "ipython",
    "version": 3
   },
   "file_extension": ".py",
   "mimetype": "text/x-python",
   "name": "python",
   "nbconvert_exporter": "python",
   "pygments_lexer": "ipython3",
   "version": "3.12.4"
  }
 },
 "nbformat": 4,
 "nbformat_minor": 2
}
